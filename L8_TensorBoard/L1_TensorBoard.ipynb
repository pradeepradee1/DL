{
 "cells": [
  {
   "cell_type": "markdown",
   "id": "0606191e",
   "metadata": {},
   "source": [
    "### TensorBoard:\n",
    "### Tensorflow's visualization tool kit"
   ]
  },
  {
   "cell_type": "code",
   "execution_count": 1,
   "id": "58c0dbc3",
   "metadata": {},
   "outputs": [
    {
     "name": "stderr",
     "output_type": "stream",
     "text": [
      "2022-06-26 20:49:54.373241: I tensorflow/core/util/util.cc:169] oneDNN custom operations are on. You may see slightly different numerical results due to floating-point round-off errors from different computation orders. To turn them off, set the environment variable `TF_ENABLE_ONEDNN_OPTS=0`.\n",
      "2022-06-26 20:49:54.376988: W tensorflow/stream_executor/platform/default/dso_loader.cc:64] Could not load dynamic library 'libcudart.so.11.0'; dlerror: libcudart.so.11.0: cannot open shared object file: No such file or directory\n",
      "2022-06-26 20:49:54.377017: I tensorflow/stream_executor/cuda/cudart_stub.cc:29] Ignore above cudart dlerror if you do not have a GPU set up on your machine.\n"
     ]
    }
   ],
   "source": [
    "import tensorflow as tf\n",
    "from tensorflow import keras\n",
    "import matplotlib.pyplot as plt\n",
    "%matplotlib inline\n",
    "import numpy as np"
   ]
  },
  {
   "cell_type": "code",
   "execution_count": 2,
   "id": "551491c2",
   "metadata": {},
   "outputs": [],
   "source": [
    "(X_train, y_train) , (X_test, y_test) = keras.datasets.mnist.load_data()"
   ]
  },
  {
   "cell_type": "code",
   "execution_count": 3,
   "id": "cf452b8b",
   "metadata": {},
   "outputs": [
    {
     "data": {
      "text/plain": [
       "60000"
      ]
     },
     "execution_count": 3,
     "metadata": {},
     "output_type": "execute_result"
    }
   ],
   "source": [
    "len(X_train)"
   ]
  },
  {
   "cell_type": "code",
   "execution_count": 4,
   "id": "fbefe04e",
   "metadata": {},
   "outputs": [
    {
     "data": {
      "text/plain": [
       "10000"
      ]
     },
     "execution_count": 4,
     "metadata": {},
     "output_type": "execute_result"
    }
   ],
   "source": [
    "len(X_test)"
   ]
  },
  {
   "cell_type": "code",
   "execution_count": 5,
   "id": "66239ea0",
   "metadata": {},
   "outputs": [
    {
     "data": {
      "text/plain": [
       "(28, 28)"
      ]
     },
     "execution_count": 5,
     "metadata": {},
     "output_type": "execute_result"
    }
   ],
   "source": [
    "X_train[0].shape"
   ]
  },
  {
   "cell_type": "code",
   "execution_count": 6,
   "id": "1f8039fa",
   "metadata": {},
   "outputs": [
    {
     "data": {
      "text/plain": [
       "<matplotlib.image.AxesImage at 0x7f6d47f25a00>"
      ]
     },
     "execution_count": 6,
     "metadata": {},
     "output_type": "execute_result"
    },
    {
     "data": {
      "image/png": "[encoded data removed]",
      "text/plain": [
       "<Figure size 288x288 with 1 Axes>"
      ]
     },
     "metadata": {
      "needs_background": "light"
     },
     "output_type": "display_data"
    }
   ],
   "source": [
    "plt.matshow(X_train[0])"
   ]
  },
  {
   "cell_type": "code",
   "execution_count": 7,
   "id": "18652713",
   "metadata": {},
   "outputs": [
    {
     "data": {
      "text/plain": [
       "5"
      ]
     },
     "execution_count": 7,
     "metadata": {},
     "output_type": "execute_result"
    }
   ],
   "source": [
    "y_train[0]"
   ]
  },
  {
   "cell_type": "code",
   "execution_count": 8,
   "id": "88606cdd",
   "metadata": {},
   "outputs": [],
   "source": [
    "X_train = X_train / 255\n",
    "X_test = X_test / 255"
   ]
  },
  {
   "cell_type": "code",
   "execution_count": 9,
   "id": "02629f67",
   "metadata": {},
   "outputs": [],
   "source": [
    "X_train_flattened = X_train.reshape(len(X_train), 28*28)\n",
    "X_test_flattened = X_test.reshape(len(X_test), 28*28)"
   ]
  },
  {
   "cell_type": "code",
   "execution_count": 10,
   "id": "a564677a",
   "metadata": {},
   "outputs": [
    {
     "data": {
      "text/plain": [
       "(60000, 784)"
      ]
     },
     "execution_count": 10,
     "metadata": {},
     "output_type": "execute_result"
    }
   ],
   "source": [
    "X_train_flattened.shape"
   ]
  },
  {
   "cell_type": "markdown",
   "id": "2d0fcc30",
   "metadata": {},
   "source": [
    "### Using Flatten layer so that we don't have to call .reshape on input dataset"
   ]
  },
  {
   "cell_type": "code",
   "execution_count": 11,
   "id": "9e4c1b9c",
   "metadata": {},
   "outputs": [
    {
     "name": "stderr",
     "output_type": "stream",
     "text": [
      "2022-06-26 20:49:56.421100: W tensorflow/stream_executor/platform/default/dso_loader.cc:64] Could not load dynamic library 'libcuda.so.1'; dlerror: libcuda.so.1: cannot open shared object file: No such file or directory\n",
      "2022-06-26 20:49:56.421121: W tensorflow/stream_executor/cuda/cuda_driver.cc:269] failed call to cuInit: UNKNOWN ERROR (303)\n",
      "2022-06-26 20:49:56.421134: I tensorflow/stream_executor/cuda/cuda_diagnostics.cc:156] kernel driver does not appear to be running on this host (ZSCHN01LP0253L): /proc/driver/nvidia/version does not exist\n",
      "2022-06-26 20:49:56.421318: I tensorflow/core/platform/cpu_feature_guard.cc:193] This TensorFlow binary is optimized with oneAPI Deep Neural Network Library (oneDNN) to use the following CPU instructions in performance-critical operations:  AVX2 AVX512F AVX512_VNNI FMA\n",
      "To enable them in other operations, rebuild TensorFlow with the appropriate compiler flags.\n"
     ]
    },
    {
     "name": "stdout",
     "output_type": "stream",
     "text": [
      "Epoch 1/5\n",
      "1875/1875 [==============================] - 3s 1ms/step - loss: 0.2736 - accuracy: 0.9233\n",
      "Epoch 2/5\n",
      "1875/1875 [==============================] - 3s 1ms/step - loss: 0.1232 - accuracy: 0.9638\n",
      "Epoch 3/5\n",
      "1875/1875 [==============================] - 2s 1ms/step - loss: 0.0855 - accuracy: 0.9741\n",
      "Epoch 4/5\n",
      "1875/1875 [==============================] - 2s 1ms/step - loss: 0.0640 - accuracy: 0.9808\n",
      "Epoch 5/5\n",
      "1875/1875 [==============================] - 2s 1ms/step - loss: 0.0515 - accuracy: 0.9844\n"
     ]
    },
    {
     "data": {
      "text/plain": [
       "<keras.callbacks.History at 0x7f6d4828b220>"
      ]
     },
     "execution_count": 11,
     "metadata": {},
     "output_type": "execute_result"
    }
   ],
   "source": [
    "model = keras.Sequential([\n",
    "    keras.layers.Flatten(input_shape=(28, 28)),\n",
    "    keras.layers.Dense(100, activation='relu'),\n",
    "    keras.layers.Dense(10, activation='sigmoid')\n",
    "])\n",
    "\n",
    "model.compile(optimizer='adam',\n",
    "              loss='sparse_categorical_crossentropy',\n",
    "              metrics=['accuracy'])\n",
    "\n",
    "tb_callback = tf.keras.callbacks.TensorBoard(log_dir=\"logs/\", histogram_freq=1)\n",
    "\n",
    "model.fit(X_train, y_train, epochs=5, callbacks=[tb_callback])"
   ]
  },
  {
   "cell_type": "code",
   "execution_count": 15,
   "id": "f1c2f123",
   "metadata": {},
   "outputs": [
    {
     "name": "stdout",
     "output_type": "stream",
     "text": [
      "Epoch 1/5\n",
      "1875/1875 [==============================] - 2s 787us/step - loss: 0.6631 - accuracy: 0.8309\n",
      "Epoch 2/5\n",
      "1875/1875 [==============================] - 2s 1ms/step - loss: 0.3406 - accuracy: 0.9057\n",
      "Epoch 3/5\n",
      "1875/1875 [==============================] - 2s 1ms/step - loss: 0.2915 - accuracy: 0.9186\n",
      "Epoch 4/5\n",
      "1875/1875 [==============================] - 2s 1ms/step - loss: 0.2607 - accuracy: 0.9276\n",
      "Epoch 5/5\n",
      "1875/1875 [==============================] - 4s 2ms/step - loss: 0.2371 - accuracy: 0.9339\n"
     ]
    },
    {
     "data": {
      "text/plain": [
       "<keras.callbacks.History at 0x7f6db55e79a0>"
      ]
     },
     "execution_count": 15,
     "metadata": {},
     "output_type": "execute_result"
    }
   ],
   "source": [
    "model = keras.Sequential([\n",
    "    keras.layers.Flatten(input_shape=(28, 28)),\n",
    "    keras.layers.Dense(100, activation='relu'),\n",
    "    keras.layers.Dense(10, activation='sigmoid')\n",
    "])\n",
    "\n",
    "tb_callback = tf.keras.callbacks.TensorBoard(log_dir=\"logs/SGD\",histogram_freq=1)\n",
    "\n",
    "model.compile(optimizer='SGD',\n",
    "              loss='sparse_categorical_crossentropy',\n",
    "              metrics=['accuracy'])\n",
    "\n",
    "#Here SGD is Sohastic Gradient Desent\n",
    "\n",
    "tb_callback = tf.keras.callbacks.TensorBoard(log_dir=\"logs/\", histogram_freq=1)\n",
    "\n",
    "model.fit(X_train, y_train, epochs=5, callbacks=[tb_callback])"
   ]
  },
  {
   "cell_type": "markdown",
   "id": "45a2a394",
   "metadata": {},
   "source": [
    "### For visulization "
   ]
  },
  {
   "cell_type": "code",
   "execution_count": 13,
   "id": "1202d408",
   "metadata": {},
   "outputs": [
    {
     "data": {
      "text/html": [
       "\n",
       "      <iframe id=\"tensorboard-frame-4675c8dd49d0b659\" width=\"100%\" height=\"800\" frameborder=\"0\">\n",
       "      </iframe>\n",
       "      <script>\n",
       "        (function() {\n",
       "          const frame = document.getElementById(\"tensorboard-frame-4675c8dd49d0b659\");\n",
       "          const url = new URL(\"/\", window.location);\n",
       "          const port = 6006;\n",
       "          if (port) {\n",
       "            url.port = port;\n",
       "          }\n",
       "          frame.src = url;\n",
       "        })();\n",
       "      </script>\n",
       "    "
      ],
      "text/plain": [
       "<IPython.core.display.HTML object>"
      ]
     },
     "metadata": {},
     "output_type": "display_data"
    }
   ],
   "source": [
    "%load_ext tensorboard\n",
    "%tensorboard --logdir logs/fit"
   ]
  },
  {
   "cell_type": "code",
   "execution_count": 14,
   "id": "d97d58c7",
   "metadata": {},
   "outputs": [
    {
     "data": {
      "text/plain": [
       "[array([[-0.05787903,  0.04691069,  0.01296157, ...,  0.06196834,\n",
       "          0.0235502 , -0.04240781],\n",
       "        [ 0.07114016, -0.03912723,  0.04503651, ...,  0.01406173,\n",
       "          0.03044572, -0.0360438 ],\n",
       "        [-0.04674203,  0.01192863, -0.03649249, ...,  0.06862308,\n",
       "          0.06525889, -0.04495972],\n",
       "        ...,\n",
       "        [-0.01163159, -0.02176049, -0.0641965 , ...,  0.02798617,\n",
       "          0.05608694,  0.03623381],\n",
       "        [-0.01426701,  0.00095926,  0.05702771, ...,  0.05326192,\n",
       "          0.04680888, -0.0324529 ],\n",
       "        [-0.00286346,  0.00937869,  0.05308151, ..., -0.03764166,\n",
       "         -0.04237053,  0.00627856]], dtype=float32),\n",
       " array([-1.4053768e-03,  3.4157354e-02,  1.1709028e-01,  8.7953568e-02,\n",
       "         1.6009408e-01, -3.3155172e-03,  1.5221559e-02, -6.9364667e-02,\n",
       "         6.3838355e-02, -3.7355803e-02, -3.3070825e-02,  5.9404001e-02,\n",
       "         1.0206239e-01,  1.3539268e-02,  2.9487871e-02,  2.3583993e-02,\n",
       "        -1.6790768e-02, -6.0710244e-02,  3.9862622e-02,  4.5513328e-02,\n",
       "         1.5795958e-01,  1.2210151e-02, -5.2132392e-03, -4.3310647e-04,\n",
       "         4.6752036e-02, -7.1067060e-03,  2.9393535e-02,  1.1128874e-01,\n",
       "         2.3029801e-02, -1.5827557e-02,  1.3632642e-02,  1.2876623e-02,\n",
       "         4.7669034e-02,  1.8792069e-02,  6.1947156e-02, -5.8821287e-02,\n",
       "        -4.2816442e-03, -7.7722333e-02, -5.2338894e-02,  1.8328696e-02,\n",
       "         3.9457437e-02,  4.6403904e-02,  2.5593971e-03,  8.5415535e-02,\n",
       "         1.5830889e-02,  2.7759068e-02, -1.1073012e-01,  3.6046281e-02,\n",
       "         5.1772635e-02,  7.0277460e-02,  3.5155937e-02, -5.9408792e-03,\n",
       "         1.8760597e-03,  6.5733112e-02, -2.2998022e-02,  6.2164660e-03,\n",
       "        -6.4772456e-03, -3.5357662e-02,  7.1222648e-02, -7.8300163e-03,\n",
       "        -1.1023119e-04,  7.3650405e-03,  2.8704660e-02,  5.2722096e-02,\n",
       "        -2.7545532e-02, -2.4071556e-02, -1.0789158e-01, -6.9031432e-02,\n",
       "         3.5085112e-02,  7.4405372e-02,  5.0042745e-02,  5.4205008e-02,\n",
       "         1.5250362e-01,  6.4797834e-02, -6.7363773e-03, -5.0961990e-03,\n",
       "        -7.6351891e-05, -2.2929275e-02,  3.4642559e-02,  2.5462637e-02,\n",
       "         1.7931160e-02, -4.1259203e-02,  7.2646409e-02,  8.7981354e-03,\n",
       "         7.5732321e-02,  4.5990307e-02,  2.1087108e-02,  1.5166777e-02,\n",
       "         8.5913651e-02,  7.9325654e-02,  4.5489866e-02, -2.1929326e-02,\n",
       "         6.3217869e-03, -5.5631235e-02, -9.6413746e-02,  5.5536203e-02,\n",
       "         6.4799808e-02, -4.0136755e-02,  1.1653623e-01,  6.5803036e-02],\n",
       "       dtype=float32),\n",
       " array([[-3.28341238e-02,  3.56896524e-03,  8.28707591e-02,\n",
       "         -1.13606513e-01,  4.41463351e-01, -2.05906346e-01,\n",
       "         -1.38014704e-01, -8.54780152e-02, -2.02705741e-01,\n",
       "         -9.87913460e-02],\n",
       "        [-1.43676281e-01, -4.78467382e-02, -7.12656006e-02,\n",
       "         -3.09462756e-01, -5.58811426e-02,  2.07582906e-01,\n",
       "          1.76912278e-01, -2.31332392e-01,  7.14113042e-02,\n",
       "          3.37834835e-01],\n",
       "        [ 2.19122976e-01, -1.93915352e-01,  4.56118047e-01,\n",
       "         -2.23400310e-01,  2.40085095e-01,  2.12429777e-01,\n",
       "          4.85506326e-01, -2.59269893e-01, -4.80100393e-01,\n",
       "         -2.76645303e-01],\n",
       "        [-2.04661965e-01,  2.54804134e-01, -5.83173037e-02,\n",
       "         -1.60535023e-01,  1.05128057e-01,  2.83836216e-01,\n",
       "         -2.78946996e-01,  3.09906781e-01,  9.04668123e-02,\n",
       "          2.48125792e-01],\n",
       "        [-1.81432649e-01,  2.90624678e-01, -3.68568569e-01,\n",
       "         -2.82342434e-01,  4.18677092e-01,  3.95542890e-01,\n",
       "         -1.30471274e-01,  5.18927649e-02, -1.28429025e-01,\n",
       "         -1.92631230e-01],\n",
       "        [ 1.16790012e-01,  8.92491788e-02, -4.60528322e-02,\n",
       "         -1.55301280e-02, -2.21945673e-01,  1.34837598e-01,\n",
       "         -2.29430839e-01,  2.72166789e-01,  1.74749404e-01,\n",
       "         -1.86215013e-01],\n",
       "        [-2.27968037e-01,  6.12894632e-02, -1.67177059e-02,\n",
       "          1.37340337e-01, -3.54571603e-02, -2.23860294e-01,\n",
       "         -4.46614325e-02,  1.19008854e-01, -2.64722705e-01,\n",
       "          1.52380124e-01],\n",
       "        [ 1.52610376e-01, -1.22733124e-01, -2.97954619e-01,\n",
       "         -6.07739091e-02,  4.13551122e-01, -2.46142119e-01,\n",
       "          3.21839541e-01, -8.57580826e-02,  1.75821066e-01,\n",
       "          6.33383095e-02],\n",
       "        [ 4.22548562e-01, -3.38856965e-01,  4.16318513e-03,\n",
       "         -1.76356941e-01, -2.52220362e-01,  5.29238172e-02,\n",
       "         -1.61432222e-01, -9.53703448e-02, -1.65293798e-01,\n",
       "          6.63906857e-02],\n",
       "        [ 1.50533110e-01, -1.08979411e-01,  2.07369864e-01,\n",
       "         -1.69166788e-01,  2.04873025e-01, -2.23107085e-01,\n",
       "         -2.21456245e-01,  2.65729308e-01,  2.67105013e-01,\n",
       "          2.51389682e-01],\n",
       "        [-9.21111628e-02,  1.85823083e-01, -1.10334873e-01,\n",
       "          5.37481904e-02, -1.53030500e-01, -1.10774875e-01,\n",
       "          1.61807433e-01, -1.89159885e-01,  2.31376261e-01,\n",
       "         -2.44467035e-01],\n",
       "        [-2.58284152e-01,  1.83725223e-01, -1.09651074e-01,\n",
       "          3.84821951e-01, -1.64056182e-01,  3.69446725e-01,\n",
       "         -7.24253729e-02, -2.18021646e-01, -1.86269417e-01,\n",
       "          4.58287708e-02],\n",
       "        [-1.65782809e-01, -2.13891447e-01, -2.24069180e-03,\n",
       "         -1.22385591e-01,  4.54135500e-02, -2.81652678e-02,\n",
       "         -3.40786695e-01,  4.71784979e-01, -3.00476134e-01,\n",
       "          3.89986187e-02],\n",
       "        [-2.27058902e-01, -1.18322313e-01, -1.35645658e-01,\n",
       "         -2.36745447e-01, -1.54419720e-01, -2.52044341e-03,\n",
       "          1.77565694e-01,  9.89778936e-02, -2.03528523e-01,\n",
       "         -2.61274546e-01],\n",
       "        [ 8.51220265e-02, -2.36058623e-01,  2.32640073e-01,\n",
       "         -1.00008480e-01, -3.27150613e-01, -2.73375034e-01,\n",
       "          1.78337097e-01,  3.99930328e-01, -1.31173626e-01,\n",
       "          1.40001729e-01],\n",
       "        [-3.90847176e-01, -1.80988804e-01, -2.48934463e-01,\n",
       "          1.33937970e-02,  3.93212467e-01, -2.54295647e-01,\n",
       "          7.00662211e-02, -3.76355648e-02, -1.16426609e-01,\n",
       "          2.19854265e-01],\n",
       "        [ 7.26494417e-02, -1.75881475e-01, -4.87735793e-02,\n",
       "          1.96923107e-01, -2.35514969e-01,  1.74927264e-02,\n",
       "         -1.57675743e-01, -1.86069310e-01,  1.51260525e-01,\n",
       "          1.08290449e-01],\n",
       "        [-3.93178701e-01, -1.80236936e-01,  1.68893501e-01,\n",
       "          3.80455673e-01,  1.31992713e-01,  1.16766356e-02,\n",
       "         -3.71010631e-01, -4.39697832e-01,  1.31994426e-01,\n",
       "         -2.17461139e-01],\n",
       "        [-1.53546214e-01,  4.86123003e-02,  1.76943898e-01,\n",
       "         -3.49839002e-01,  2.82062888e-01,  1.57613099e-01,\n",
       "          9.19334069e-02, -4.87928480e-01,  1.11173488e-01,\n",
       "          6.77711144e-02],\n",
       "        [ 1.87673345e-01,  2.13201866e-01,  3.66161056e-02,\n",
       "         -3.58327657e-01,  4.03637663e-02, -3.83023173e-01,\n",
       "          3.19861114e-01,  4.46635842e-01, -4.42277156e-02,\n",
       "         -1.25416696e-01],\n",
       "        [-1.00969300e-01, -1.80606529e-01, -1.45088613e-01,\n",
       "         -3.04400057e-01,  2.60163993e-01,  3.83347034e-01,\n",
       "         -1.46471784e-01,  4.53382134e-01, -3.68900776e-01,\n",
       "         -7.27984682e-02],\n",
       "        [ 4.76424247e-01, -2.92272329e-01, -1.58760190e-01,\n",
       "         -1.50459617e-01,  2.25907370e-01,  1.84607863e-01,\n",
       "         -3.19670796e-01,  9.03448164e-02,  2.87359416e-01,\n",
       "         -2.83979982e-01],\n",
       "        [-2.76285976e-01, -2.29813650e-01,  1.36201173e-01,\n",
       "          1.98951498e-01, -1.05174057e-01,  3.17513973e-01,\n",
       "         -2.24597469e-01, -1.91271678e-01,  1.94532484e-01,\n",
       "         -1.24789298e-01],\n",
       "        [-3.28474373e-01,  6.60239831e-02, -1.24987572e-01,\n",
       "         -1.19701497e-01,  2.22429767e-01, -1.13223776e-01,\n",
       "         -6.85667694e-02,  2.37701148e-01,  2.92591095e-01,\n",
       "          2.07197756e-01],\n",
       "        [-2.55693138e-01,  2.33400520e-02, -9.59505066e-02,\n",
       "         -2.32570350e-01,  3.73566896e-01, -6.72099888e-02,\n",
       "          1.41201153e-01, -9.56265547e-04, -2.86707103e-01,\n",
       "         -6.72574267e-02],\n",
       "        [ 6.23060428e-02, -3.34760994e-01,  1.69817090e-01,\n",
       "          4.25601572e-01, -2.38182783e-01,  1.57771707e-01,\n",
       "         -3.95562619e-01,  7.53196776e-02, -3.12180761e-02,\n",
       "         -1.00723375e-02],\n",
       "        [ 1.24700405e-01, -2.72685438e-01, -1.69411927e-01,\n",
       "          1.24256000e-01,  2.33610272e-01, -5.55803068e-03,\n",
       "         -1.59356102e-01,  2.81886190e-01,  7.10747987e-02,\n",
       "          2.68039912e-01],\n",
       "        [ 9.53545347e-02, -1.44333467e-01, -9.45740715e-02,\n",
       "          2.34635800e-01, -1.95610095e-02,  1.41574278e-01,\n",
       "         -2.43229151e-01,  3.49932760e-01, -3.57617080e-01,\n",
       "         -2.95436889e-01],\n",
       "        [ 1.87355816e-01, -3.29576612e-01,  4.58636373e-01,\n",
       "          9.30232853e-02,  5.51792830e-02,  1.85137197e-01,\n",
       "          8.38957652e-02, -4.34854984e-01,  1.40419905e-03,\n",
       "         -4.50661570e-01],\n",
       "        [-9.66631696e-02,  2.59910882e-01, -2.39719838e-01,\n",
       "          2.35594183e-01,  1.97296906e-02, -8.95579457e-02,\n",
       "          1.46118596e-01, -1.13307685e-01,  9.14249867e-02,\n",
       "         -2.65704662e-01],\n",
       "        [-8.34482759e-02,  7.92278629e-03, -9.95186865e-02,\n",
       "         -1.32205039e-01, -1.75129443e-01, -6.80473968e-02,\n",
       "          1.57463908e-01, -1.76145390e-01, -1.04105808e-01,\n",
       "          2.44753122e-01],\n",
       "        [ 1.60491318e-02, -1.74253657e-01,  9.42420438e-02,\n",
       "         -2.01526973e-02, -1.95400923e-01,  3.75230968e-01,\n",
       "          3.45504999e-01, -3.16136122e-01,  1.71264753e-01,\n",
       "         -1.85513169e-01],\n",
       "        [-2.71119446e-01,  1.37016222e-01, -3.27492803e-02,\n",
       "          1.91014305e-01,  3.34874183e-01, -4.88426313e-02,\n",
       "         -1.03385463e-01, -7.87969306e-02, -1.99541882e-01,\n",
       "          2.98867345e-01],\n",
       "        [-3.38197589e-01, -2.50294864e-01,  1.80208221e-01,\n",
       "          3.39899719e-01,  2.93742985e-01,  1.39239267e-01,\n",
       "         -2.12630481e-01,  7.75886998e-02,  7.98159391e-02,\n",
       "         -2.86072344e-01],\n",
       "        [ 3.63239616e-01, -1.71736732e-01, -2.31229775e-02,\n",
       "          3.25394481e-01, -5.03256656e-02,  3.45778435e-01,\n",
       "          1.02399364e-01, -1.92935348e-01, -3.73640418e-01,\n",
       "         -8.14974755e-02],\n",
       "        [ 4.84709054e-01, -1.13616951e-01,  1.26753479e-01,\n",
       "          8.70383084e-02,  2.91020852e-02, -2.62126207e-01,\n",
       "         -2.69812763e-01,  7.97958001e-02,  1.35907546e-01,\n",
       "         -1.42562002e-01],\n",
       "        [ 6.44546449e-02,  1.13102697e-01,  2.37526316e-02,\n",
       "          1.73543721e-01, -1.06292136e-01, -4.19831388e-02,\n",
       "         -2.27958947e-01, -9.42620561e-02, -9.30218548e-02,\n",
       "         -1.96635015e-02],\n",
       "        [-1.45047352e-01, -1.98976263e-01,  3.18248540e-01,\n",
       "          7.66895935e-02, -7.99975544e-03, -3.46247226e-01,\n",
       "         -2.09447891e-01, -4.10992444e-01,  7.95869622e-04,\n",
       "          1.88740805e-01],\n",
       "        [ 1.33383721e-01,  1.27100702e-02,  2.14129508e-01,\n",
       "         -3.33941840e-02,  3.71343553e-01, -2.31135413e-01,\n",
       "         -2.82937020e-01, -3.58757555e-01,  1.68205455e-01,\n",
       "         -1.16808489e-01],\n",
       "        [-5.80494478e-02,  1.53554931e-01, -2.23646387e-01,\n",
       "         -1.84303299e-01, -5.50955199e-02,  2.00309739e-01,\n",
       "          1.69624686e-01,  1.55902535e-01, -3.73355597e-02,\n",
       "          9.50265024e-03],\n",
       "        [ 1.31364092e-01, -1.02947675e-01, -2.76616842e-01,\n",
       "          1.16866954e-01, -4.02077287e-01,  2.87082523e-01,\n",
       "          1.22995354e-01,  8.54576007e-02, -8.30757841e-02,\n",
       "          2.74152637e-01],\n",
       "        [-1.33356601e-01,  2.96269149e-01, -2.53411978e-01,\n",
       "         -6.68068826e-02, -7.90525004e-02,  2.58240908e-01,\n",
       "          1.83896214e-01, -3.08263600e-01,  1.91315740e-01,\n",
       "          8.08494613e-02],\n",
       "        [-5.57717383e-02,  1.79513186e-01, -1.68536767e-01,\n",
       "         -1.79183736e-01, -2.18376204e-01,  8.29316229e-02,\n",
       "         -2.17824027e-01, -2.96127051e-01,  1.83613852e-01,\n",
       "          1.67653590e-01],\n",
       "        [-2.96629310e-01,  5.28384387e-01,  3.46067667e-01,\n",
       "          4.47921902e-02,  2.13910297e-01, -1.29372239e-01,\n",
       "         -2.53454655e-01,  4.64354903e-01, -4.18585628e-01,\n",
       "         -3.27102333e-01],\n",
       "        [ 1.34882420e-01,  3.00687134e-01,  1.09763376e-01,\n",
       "         -2.65765488e-02, -1.58046871e-01, -2.11016446e-01,\n",
       "          3.36705983e-01, -2.47630663e-02, -1.95639178e-01,\n",
       "         -2.49275297e-01],\n",
       "        [-6.08875416e-02, -1.82450116e-01,  1.37426421e-01,\n",
       "          5.25174364e-02,  1.85386553e-01, -3.22576910e-01,\n",
       "          1.82839066e-01,  1.00607887e-01, -3.23711246e-01,\n",
       "          2.22418115e-01],\n",
       "        [-6.35671662e-03, -1.26997203e-01, -1.27190635e-01,\n",
       "          1.46659270e-01,  2.30329230e-01, -3.14824522e-01,\n",
       "          2.16908664e-01,  1.92052677e-01,  2.74361730e-01,\n",
       "         -1.68581754e-01],\n",
       "        [-3.17160010e-01,  4.50344682e-01, -1.92005277e-01,\n",
       "          2.17187300e-01,  7.25204647e-02, -4.51444164e-02,\n",
       "         -2.34088272e-01, -2.25013405e-01,  7.15730861e-02,\n",
       "          1.49868608e-01],\n",
       "        [-6.70761541e-02,  3.36927056e-01, -2.05153137e-01,\n",
       "          3.31428885e-01, -1.69426963e-01,  2.19295442e-01,\n",
       "         -2.25759879e-01,  9.31365713e-02, -1.26328006e-01,\n",
       "         -1.13271445e-01],\n",
       "        [-3.96117270e-02, -1.61272660e-01, -3.46339419e-02,\n",
       "         -2.45168969e-01,  9.81080756e-02, -1.03215478e-01,\n",
       "          1.62866488e-01,  3.56074125e-01, -3.58316511e-01,\n",
       "          2.36490220e-01],\n",
       "        [-1.99335471e-01,  2.30865330e-01, -1.56869188e-01,\n",
       "          4.79404815e-02, -1.81454390e-01,  7.60735124e-02,\n",
       "         -3.24404955e-01,  9.69512761e-03,  2.19394103e-01,\n",
       "          2.71363139e-01],\n",
       "        [-3.31896633e-01,  1.00437544e-01,  2.54245847e-01,\n",
       "          8.59125182e-02, -1.76729620e-01,  2.64844410e-02,\n",
       "          3.02166104e-01, -1.04194349e-02,  1.13914467e-01,\n",
       "         -2.24671125e-01],\n",
       "        [ 1.52382478e-01,  9.04464945e-02, -7.04391077e-02,\n",
       "          1.92761719e-01, -1.24774881e-01, -2.43018419e-01,\n",
       "         -2.42513880e-01,  1.41804263e-01,  1.60341665e-01,\n",
       "          1.59901455e-01],\n",
       "        [-4.21830088e-01,  6.98622987e-02,  1.71283737e-01,\n",
       "          4.14045244e-01, -1.48560077e-01,  1.23286054e-01,\n",
       "         -2.71856248e-01,  3.59020531e-01, -1.86952483e-02,\n",
       "          2.01712802e-01],\n",
       "        [ 7.30145127e-02, -2.15148896e-01,  1.94431528e-01,\n",
       "         -1.91604868e-01,  1.92072019e-01, -8.74749944e-02,\n",
       "         -1.01701029e-01, -7.85662979e-02,  1.29203245e-01,\n",
       "          2.27217153e-01],\n",
       "        [-3.14273387e-01, -1.51490280e-02, -2.40427762e-01,\n",
       "         -5.82609791e-03, -2.33953237e-03, -1.31643057e-01,\n",
       "         -3.38722765e-01,  3.13234806e-01,  2.62200981e-01,\n",
       "          2.69103914e-01],\n",
       "        [ 1.18674569e-01,  2.25257557e-02,  5.98257631e-02,\n",
       "         -3.39592621e-02,  9.02637169e-02, -1.38759211e-01,\n",
       "          1.04793660e-01, -1.09256618e-01,  6.14389740e-02,\n",
       "         -2.79669254e-03],\n",
       "        [-1.29448980e-01, -2.81689078e-01, -1.19245686e-01,\n",
       "          4.08015624e-02,  2.76097566e-01, -2.17727609e-02,\n",
       "          3.30964863e-01, -2.20287330e-02,  1.70496345e-01,\n",
       "         -1.24509327e-01],\n",
       "        [-1.67062044e-01,  4.69589233e-01,  2.83309165e-02,\n",
       "         -2.10136741e-01, -2.21383497e-01,  1.67024940e-01,\n",
       "         -6.59157662e-03, -1.71326086e-01,  2.83613414e-01,\n",
       "         -9.83216390e-02],\n",
       "        [-2.11863458e-01, -3.37545574e-01,  2.01877326e-01,\n",
       "         -1.48846716e-01, -2.27313682e-01, -3.05301219e-01,\n",
       "          6.39287829e-02,  7.91487172e-02, -4.01170030e-02,\n",
       "          7.74743967e-03],\n",
       "        [ 6.22243844e-02, -1.51887536e-01, -1.62052542e-01,\n",
       "         -2.15151951e-01,  1.71398115e-03,  1.97480991e-01,\n",
       "          2.18843013e-01, -1.29629031e-01, -1.78429455e-01,\n",
       "          3.26993642e-03],\n",
       "        [ 3.58200558e-02,  2.09552288e-01,  2.92865306e-01,\n",
       "         -1.16351672e-01,  4.74080518e-02,  1.29740477e-01,\n",
       "         -2.13532969e-02, -1.50867298e-01, -1.50372833e-01,\n",
       "          3.99195589e-02],\n",
       "        [-2.54407600e-02, -1.36322975e-01, -2.98544288e-01,\n",
       "         -3.10784191e-01, -1.70337573e-01,  2.74506420e-01,\n",
       "          1.78361371e-01,  2.06425548e-01,  1.76259220e-01,\n",
       "         -4.32882598e-03],\n",
       "        [-2.29540165e-03,  2.45772302e-02,  2.13391945e-01,\n",
       "          2.67235845e-01, -1.09404579e-01,  2.46620178e-01,\n",
       "         -1.39759362e-01, -6.74416721e-02, -1.59241762e-02,\n",
       "         -1.49017751e-01],\n",
       "        [ 2.12984517e-01,  9.28327292e-02,  4.09872383e-01,\n",
       "          2.41697833e-01, -2.62454718e-01, -1.97729826e-01,\n",
       "         -2.29909614e-01, -8.21152106e-02, -1.08636081e-01,\n",
       "          1.43064380e-01],\n",
       "        [ 4.20231074e-02, -4.35536243e-02,  2.57205248e-01,\n",
       "         -1.31500199e-01,  4.06714045e-02,  9.27974209e-02,\n",
       "          3.87808323e-01, -1.60458162e-01,  2.70735443e-01,\n",
       "         -1.72728747e-01],\n",
       "        [ 4.22536254e-01,  1.01377384e-03, -1.81787848e-01,\n",
       "          1.65687472e-01, -3.59882534e-01, -2.91952193e-01,\n",
       "          2.31496155e-01, -2.68095076e-01,  1.07216351e-01,\n",
       "          1.90022632e-01],\n",
       "        [-4.06605937e-03, -1.66759931e-03, -1.82344437e-01,\n",
       "          3.85431826e-01, -1.09684385e-01, -2.56716281e-01,\n",
       "         -2.61384070e-01,  1.76203147e-01,  2.33690724e-01,\n",
       "         -5.80594130e-02],\n",
       "        [ 1.24627888e-01,  1.76350743e-01, -2.24668384e-01,\n",
       "          3.38721246e-01,  7.79388472e-02,  2.56271809e-01,\n",
       "          6.47805482e-02, -3.26244593e-01, -3.21210712e-01,\n",
       "          3.69891077e-01],\n",
       "        [ 1.62009031e-01, -2.01385692e-01, -9.88126248e-02,\n",
       "         -3.60022932e-01,  8.13621879e-02,  2.93186575e-01,\n",
       "          2.70391196e-01, -2.37246603e-02, -4.59189005e-02,\n",
       "         -1.17083620e-02],\n",
       "        [-1.12734519e-01,  2.44939357e-01, -7.59074688e-02,\n",
       "          1.08578011e-01, -1.31512344e-01,  3.12494040e-01,\n",
       "         -2.50034988e-01, -1.06146395e-01,  2.53552824e-01,\n",
       "         -1.36765540e-01],\n",
       "        [-2.64805913e-01,  1.43598378e-01, -1.28964916e-01,\n",
       "          8.72842595e-02,  1.12486303e-01, -2.95952886e-01,\n",
       "         -3.23942117e-02,  6.59046024e-02, -2.06086159e-01,\n",
       "          4.18527067e-01],\n",
       "        [-3.22105169e-01,  3.61263782e-01,  3.36771607e-01,\n",
       "          1.70899145e-02, -5.70183992e-02,  3.96015137e-01,\n",
       "          2.55763590e-01,  1.63186163e-01, -4.20353651e-01,\n",
       "         -4.01882648e-01],\n",
       "        [-2.41084144e-01,  1.43222576e-02,  1.12560719e-01,\n",
       "          8.29991698e-02,  5.75959384e-02, -2.23197654e-01,\n",
       "         -1.80749580e-01,  3.24505836e-01, -2.17886820e-01,\n",
       "          8.98867697e-02],\n",
       "        [ 3.23863268e-01, -4.07319784e-01,  1.76793084e-01,\n",
       "         -2.26983756e-01, -2.27450714e-01,  2.66176164e-01,\n",
       "          3.03396404e-01, -7.74900541e-02,  3.01094562e-01,\n",
       "          1.29288733e-01],\n",
       "        [-2.47313589e-01,  1.83906049e-01,  2.14213163e-01,\n",
       "          1.39455637e-02, -1.90668225e-01, -1.29721910e-01,\n",
       "         -2.75759161e-01,  1.23634182e-01,  1.09655246e-01,\n",
       "         -1.89163893e-01],\n",
       "        [-1.83564469e-01,  1.64607480e-01, -1.00464672e-01,\n",
       "          1.76305443e-01, -2.59932101e-01, -2.32110217e-01,\n",
       "          2.88863450e-01,  2.55139500e-01, -8.79472420e-02,\n",
       "         -2.70844758e-01],\n",
       "        [-2.16403946e-01, -8.22725743e-02, -2.06869140e-01,\n",
       "          3.00783873e-01,  9.93574634e-02, -4.49806243e-01,\n",
       "         -3.10624801e-02, -2.25967113e-02, -1.91170022e-01,\n",
       "          3.64577323e-01],\n",
       "        [-1.92000702e-01,  2.74004489e-01, -2.14912295e-01,\n",
       "         -2.91822314e-01,  1.56290621e-01,  1.17616221e-01,\n",
       "          1.58959806e-01, -2.59428859e-01, -1.25315398e-01,\n",
       "         -2.72213966e-01],\n",
       "        [-3.23144272e-02,  3.35146813e-03, -2.51718909e-01,\n",
       "         -2.32780561e-01, -2.81670749e-01,  4.86913055e-01,\n",
       "          2.41725489e-01,  8.18770379e-02,  2.48134769e-02,\n",
       "         -1.18160099e-01],\n",
       "        [ 2.53416061e-01,  7.92557746e-02,  3.80895913e-01,\n",
       "          2.45249212e-01, -1.97950140e-01, -1.08849362e-01,\n",
       "         -2.43987665e-01, -1.97380602e-01, -4.89878625e-01,\n",
       "          1.41813159e-01],\n",
       "        [-9.54563171e-02,  2.36835822e-01,  5.36894023e-01,\n",
       "         -4.99875881e-02, -3.58459383e-01, -1.55057847e-01,\n",
       "          2.84105867e-01,  1.15756653e-01,  1.88256562e-01,\n",
       "         -3.38266492e-01],\n",
       "        [-1.52413577e-01,  2.32552230e-01, -5.64094819e-02,\n",
       "         -8.78049955e-02,  7.95662999e-02,  1.18444311e-02,\n",
       "          2.17625216e-01,  3.50073516e-01, -2.34849989e-01,\n",
       "         -1.89443901e-01],\n",
       "        [-9.10346657e-02,  2.25653857e-01, -1.76997632e-01,\n",
       "         -5.35923950e-02, -1.92104697e-01, -8.04302767e-02,\n",
       "         -9.28471386e-02, -1.94120780e-01, -2.30099976e-01,\n",
       "          6.03128448e-02],\n",
       "        [-2.72893548e-01,  1.33108810e-01, -9.19772238e-02,\n",
       "          7.24791735e-02, -7.16004372e-02,  3.72514814e-01,\n",
       "         -1.02629438e-01,  1.76993415e-01,  2.79150814e-01,\n",
       "         -1.14685312e-01],\n",
       "        [ 4.40020021e-03,  9.37124118e-02,  3.32188129e-01,\n",
       "         -1.21042028e-03, -4.10357594e-01, -3.39010581e-02,\n",
       "         -4.13598925e-01,  4.05767322e-01, -1.67527944e-01,\n",
       "          1.14872567e-01],\n",
       "        [-4.41967212e-02,  7.16637522e-02,  1.05672255e-01,\n",
       "          2.08203331e-01, -1.83289275e-01, -4.60506752e-02,\n",
       "         -2.16995522e-01,  1.64656982e-01,  5.91938347e-02,\n",
       "          2.28736699e-01],\n",
       "        [-5.55871949e-02,  9.10353437e-02, -4.89083007e-02,\n",
       "         -1.05992161e-01,  1.37236848e-01, -3.71885329e-01,\n",
       "          2.26917848e-01,  9.77631882e-02, -1.63339451e-01,\n",
       "          1.29324585e-01],\n",
       "        [ 2.80809700e-01, -3.37620080e-02, -2.39719916e-02,\n",
       "         -3.63240570e-01,  1.67734563e-01,  2.15846032e-01,\n",
       "         -1.87605783e-01,  3.31111372e-01,  8.52244422e-02,\n",
       "          2.50647247e-01],\n",
       "        [ 2.04593047e-01,  1.73269033e-01,  2.81087399e-01,\n",
       "          2.96998203e-01, -3.99093568e-01,  2.23768294e-01,\n",
       "         -3.57212633e-01,  2.11690933e-01, -1.68431655e-01,\n",
       "         -3.97198349e-01],\n",
       "        [-1.30237058e-01,  2.36462392e-02, -2.51369774e-01,\n",
       "         -7.09088221e-02,  2.38422781e-01,  1.78770810e-01,\n",
       "          2.74621725e-01, -3.11774552e-01, -2.96526045e-01,\n",
       "          2.29671791e-01],\n",
       "        [ 1.18952408e-01, -3.19888592e-01, -4.95733768e-02,\n",
       "          1.30395189e-01, -3.05846304e-01,  4.43917215e-02,\n",
       "         -2.20091671e-01,  3.28464434e-02,  1.38150916e-01,\n",
       "          1.19022643e-02],\n",
       "        [ 2.00323507e-01, -5.41597642e-02,  1.22908078e-01,\n",
       "          5.54469079e-02, -1.26064595e-04,  2.01184258e-01,\n",
       "          3.63707799e-03,  2.15945039e-02, -9.22602639e-02,\n",
       "         -4.41421792e-02],\n",
       "        [ 1.05754271e-01, -1.87870502e-01,  3.31206560e-01,\n",
       "          2.73443609e-01, -1.96973532e-01,  2.04561099e-01,\n",
       "         -9.21399072e-02,  2.01145083e-01,  1.91625506e-01,\n",
       "         -4.01511639e-01],\n",
       "        [ 4.01743323e-01, -2.31103182e-01,  2.88371801e-01,\n",
       "          1.88728213e-01, -4.19800967e-01,  2.92102434e-02,\n",
       "          1.50088398e-02, -2.20637783e-01,  2.89295912e-01,\n",
       "          1.20964900e-01],\n",
       "        [ 1.52338594e-01, -7.79756010e-02, -3.28140289e-01,\n",
       "          4.13753875e-02, -3.50718081e-01,  2.00113282e-01,\n",
       "         -1.45025805e-01,  1.09711483e-01, -1.69497803e-01,\n",
       "         -2.47519270e-01],\n",
       "        [ 3.76954861e-02,  3.67085904e-01,  1.29797563e-01,\n",
       "         -1.09855264e-01,  1.62025288e-01, -2.00846225e-01,\n",
       "          1.96226507e-01,  1.56063125e-01, -3.46431166e-01,\n",
       "         -8.95164162e-03],\n",
       "        [-2.31945261e-01,  3.45093794e-02,  3.01167369e-01,\n",
       "         -3.07936579e-01, -2.09218934e-01, -2.56044507e-01,\n",
       "          2.94260800e-01, -2.28128821e-01,  1.24798983e-01,\n",
       "         -3.41841549e-01],\n",
       "        [ 2.16178596e-01, -4.03093100e-01, -3.08039218e-01,\n",
       "         -2.31587306e-01,  3.26030612e-01,  2.48686820e-01,\n",
       "          1.69402398e-02, -2.42274567e-01, -1.67511672e-01,\n",
       "          1.34430304e-01],\n",
       "        [-1.71920791e-01, -2.45810181e-01, -2.83520013e-01,\n",
       "          1.85388193e-01,  2.97783483e-02,  1.71346113e-01,\n",
       "          1.15045689e-01, -1.89215764e-01, -2.11211890e-01,\n",
       "          2.07728982e-01]], dtype=float32),\n",
       " array([-0.03962111,  0.11694096, -0.02267927, -0.05761777,  0.01033329,\n",
       "         0.19459641, -0.0225453 ,  0.05672034, -0.2268235 , -0.00930404],\n",
       "       dtype=float32)]"
      ]
     },
     "execution_count": 14,
     "metadata": {},
     "output_type": "execute_result"
    }
   ],
   "source": [
    "model.get_weights()\n"
   ]
  }
 ],
 "metadata": {
  "kernelspec": {
   "display_name": "Python 3 (ipykernel)",
   "language": "python",
   "name": "python3"
  },
  "language_info": {
   "codemirror_mode": {
    "name": "ipython",
    "version": 3
   },
   "file_extension": ".py",
   "mimetype": "text/x-python",
   "name": "python",
   "nbconvert_exporter": "python",
   "pygments_lexer": "ipython3",
   "version": "3.8.10"
  }
 },
 "nbformat": 4,
 "nbformat_minor": 5
}
