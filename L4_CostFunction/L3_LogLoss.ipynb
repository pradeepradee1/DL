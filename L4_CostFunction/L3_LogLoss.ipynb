{
 "cells": [
  {
   "cell_type": "code",
   "execution_count": 17,
   "id": "a5f116e7",
   "metadata": {},
   "outputs": [],
   "source": [
    "import numpy as np"
   ]
  },
  {
   "cell_type": "code",
   "execution_count": 18,
   "id": "e727ba61",
   "metadata": {},
   "outputs": [],
   "source": [
    "predicted=np.array([1,1,0,0,1])\n",
    "actuals=np.array([0.30,0.7,1,0,0.5])"
   ]
  },
  {
   "cell_type": "code",
   "execution_count": 19,
   "id": "8cf9dfaf",
   "metadata": {},
   "outputs": [
    {
     "data": {
      "text/plain": [
       "array([0.])"
      ]
     },
     "execution_count": 19,
     "metadata": {},
     "output_type": "execute_result"
    }
   ],
   "source": [
    "np.log([1])"
   ]
  },
  {
   "cell_type": "code",
   "execution_count": 20,
   "id": "7fdfa6e6",
   "metadata": {},
   "outputs": [
    {
     "data": {
      "text/plain": [
       "array([-18.42068074])"
      ]
     },
     "execution_count": 20,
     "metadata": {},
     "output_type": "execute_result"
    }
   ],
   "source": [
    "np.log([0.00000001])"
   ]
  },
  {
   "cell_type": "code",
   "execution_count": 21,
   "id": "e1e66569",
   "metadata": {},
   "outputs": [],
   "source": [
    "eplison = 1e-15"
   ]
  },
  {
   "cell_type": "code",
   "execution_count": 22,
   "id": "7136431d",
   "metadata": {},
   "outputs": [
    {
     "data": {
      "text/plain": [
       "array([1, 1, 0, 0, 1])"
      ]
     },
     "execution_count": 22,
     "metadata": {},
     "output_type": "execute_result"
    }
   ],
   "source": [
    "predicted"
   ]
  },
  {
   "cell_type": "code",
   "execution_count": 23,
   "id": "ab5974de",
   "metadata": {},
   "outputs": [
    {
     "data": {
      "text/plain": [
       "[1, 1, 1e-15, 1e-15, 1]"
      ]
     },
     "execution_count": 23,
     "metadata": {},
     "output_type": "execute_result"
    }
   ],
   "source": [
    "predicted_new = [max(i,eplison) for i in predicted]\n",
    "predicted_new"
   ]
  },
  {
   "cell_type": "code",
   "execution_count": 24,
   "id": "44590275",
   "metadata": {},
   "outputs": [
    {
     "data": {
      "text/plain": [
       "[1, 1, 0.999999999999999, 0.999999999999999, 1]"
      ]
     },
     "execution_count": 24,
     "metadata": {},
     "output_type": "execute_result"
    }
   ],
   "source": [
    "predicted_new = [max(i,1-eplison) for i in predicted]\n",
    "predicted_new"
   ]
  },
  {
   "cell_type": "code",
   "execution_count": 25,
   "id": "60a698c0",
   "metadata": {},
   "outputs": [
    {
     "data": {
      "text/plain": [
       "array([ 0.00000000e+00,  0.00000000e+00, -9.99200722e-16, -9.99200722e-16,\n",
       "        0.00000000e+00])"
      ]
     },
     "execution_count": 25,
     "metadata": {},
     "output_type": "execute_result"
    }
   ],
   "source": [
    "predicted_new = np.array(predicted_new)\n",
    "np.log(predicted_new)"
   ]
  },
  {
   "cell_type": "markdown",
   "id": "bec12888",
   "metadata": {},
   "source": [
    "### Formulae"
   ]
  },
  {
   "cell_type": "code",
   "execution_count": 26,
   "id": "5d4947e8",
   "metadata": {},
   "outputs": [
    {
     "name": "stderr",
     "output_type": "stream",
     "text": [
      "/tmp/ipykernel_238289/1238841621.py:1: RuntimeWarning: divide by zero encountered in log\n",
      "  -np.mean(actuals*np.log(predicted_new)+(1-actuals)*np.log(1-predicted_new))\n"
     ]
    },
    {
     "data": {
      "text/plain": [
       "inf"
      ]
     },
     "execution_count": 26,
     "metadata": {},
     "output_type": "execute_result"
    }
   ],
   "source": [
    "-np.mean(actuals*np.log(predicted_new)+(1-actuals)*np.log(1-predicted_new))"
   ]
  },
  {
   "cell_type": "code",
   "execution_count": null,
   "id": "995c8a37",
   "metadata": {},
   "outputs": [],
   "source": []
  }
 ],
 "metadata": {
  "kernelspec": {
   "display_name": "Python 3 (ipykernel)",
   "language": "python",
   "name": "python3"
  },
  "language_info": {
   "codemirror_mode": {
    "name": "ipython",
    "version": 3
   },
   "file_extension": ".py",
   "mimetype": "text/x-python",
   "name": "python",
   "nbconvert_exporter": "python",
   "pygments_lexer": "ipython3",
   "version": "3.8.10"
  }
 },
 "nbformat": 4,
 "nbformat_minor": 5
}
