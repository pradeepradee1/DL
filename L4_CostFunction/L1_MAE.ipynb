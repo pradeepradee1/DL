{
 "cells": [
  {
   "cell_type": "code",
   "execution_count": 1,
   "id": "e4a8776d",
   "metadata": {},
   "outputs": [],
   "source": [
    "import numpy as np"
   ]
  },
  {
   "cell_type": "code",
   "execution_count": 2,
   "id": "ade08d9d",
   "metadata": {},
   "outputs": [],
   "source": [
    "predicted=np.array([1,1,0,0,1])\n",
    "actuals=np.array([0.30,0.7,1,0,0.5])"
   ]
  },
  {
   "cell_type": "code",
   "execution_count": 3,
   "id": "be4f0ec8",
   "metadata": {},
   "outputs": [],
   "source": [
    "def mae(y_true,y_predictied):\n",
    "    total_error = 0\n",
    "    for yt,yp in zip(y_true,y_predictied):\n",
    "        total_error += abs(yt-yp)\n",
    "    print(\"TotalError is {}\".format(total_error))\n",
    "    mae=total_error / len(y_true)\n",
    "    print(\"MAE:\",mae)\n",
    "    return mae"
   ]
  },
  {
   "cell_type": "code",
   "execution_count": 4,
   "id": "4f82c460",
   "metadata": {},
   "outputs": [
    {
     "name": "stdout",
     "output_type": "stream",
     "text": [
      "TotalError is 2.5\n",
      "MAE: 0.5\n"
     ]
    },
    {
     "data": {
      "text/plain": [
       "0.5"
      ]
     },
     "execution_count": 4,
     "metadata": {},
     "output_type": "execute_result"
    }
   ],
   "source": [
    "mae(actuals,predicted)"
   ]
  },
  {
   "cell_type": "markdown",
   "id": "d712c458",
   "metadata": {},
   "source": [
    "### Aternate Solution"
   ]
  },
  {
   "cell_type": "code",
   "execution_count": 5,
   "id": "4f6ecaa9",
   "metadata": {},
   "outputs": [
    {
     "data": {
      "text/plain": [
       "0.5"
      ]
     },
     "execution_count": 5,
     "metadata": {},
     "output_type": "execute_result"
    }
   ],
   "source": [
    "#By Using The Numpy We Can Calculate the MAE \n",
    "np.mean(np.abs(actuals-predicted))"
   ]
  },
  {
   "cell_type": "code",
   "execution_count": null,
   "id": "fe4f3f58",
   "metadata": {},
   "outputs": [],
   "source": []
  },
  {
   "cell_type": "code",
   "execution_count": null,
   "id": "132865f6",
   "metadata": {},
   "outputs": [],
   "source": [
    "    "
   ]
  }
 ],
 "metadata": {
  "kernelspec": {
   "display_name": "Python 3 (ipykernel)",
   "language": "python",
   "name": "python3"
  },
  "language_info": {
   "codemirror_mode": {
    "name": "ipython",
    "version": 3
   },
   "file_extension": ".py",
   "mimetype": "text/x-python",
   "name": "python",
   "nbconvert_exporter": "python",
   "pygments_lexer": "ipython3",
   "version": "3.8.10"
  }
 },
 "nbformat": 4,
 "nbformat_minor": 5
}
